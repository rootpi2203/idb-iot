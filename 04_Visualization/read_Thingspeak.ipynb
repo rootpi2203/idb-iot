{
 "cells": [
  {
   "cell_type": "code",
   "execution_count": null,
   "metadata": {
    "collapsed": true
   },
   "outputs": [],
   "source": [
    "#from ../../Setup/secret_wifi/config.py import *\n",
    "# for privat channels\n",
    "import sys\n",
    "sys.path.insert(0, '../../Setup/setup')\n",
    "from config_thingspeak import config"
   ]
  },
  {
   "cell_type": "code",
   "execution_count": null,
   "outputs": [],
   "source": [
    "import pandas as pd\n",
    "import numpy as np\n",
    "import requests\n",
    "import json\n",
    "import plotly.express as px\n",
    "import matplotlib.pyplot as plt"
   ],
   "metadata": {
    "collapsed": false,
    "pycharm": {
     "name": "#%%\n"
    }
   }
  },
  {
   "cell_type": "code",
   "execution_count": null,
   "outputs": [],
   "source": [
    "READ_API_KEY = config['user_api_key']\n",
    "CHANNEL_ID = '1540609'\n",
    "NUMBER_ENTRIES = '300'  # amount of data points returned"
   ],
   "metadata": {
    "collapsed": false,
    "pycharm": {
     "name": "#%%\n"
    }
   }
  },
  {
   "cell_type": "code",
   "execution_count": null,
   "outputs": [],
   "source": [
    "# get channel ID\n",
    "req_channel_id = requests.get('https://api.thingspeak.com/channels.json?api_key='+ READ_API_KEY)\n",
    "req_channel_id.text[0:13]"
   ],
   "metadata": {
    "collapsed": false,
    "pycharm": {
     "name": "#%%\n"
    }
   }
  },
  {
   "cell_type": "markdown",
   "source": [
    "# [Read data from ThingSpeak](https://ch.mathworks.com/help/thingspeak/readdata.html)"
   ],
   "metadata": {
    "collapsed": false,
    "pycharm": {
     "name": "#%% md\n"
    }
   }
  },
  {
   "cell_type": "code",
   "execution_count": null,
   "outputs": [],
   "source": [
    "# get data string, result = number of entrys (max. 8000)\n",
    "read_data = 'https://api.thingspeak.com/channels/' + CHANNEL_ID + '/feeds.json?results=' + NUMBER_ENTRIES\n",
    "read_data"
   ],
   "metadata": {
    "collapsed": false,
    "pycharm": {
     "name": "#%%\n"
    }
   }
  },
  {
   "cell_type": "code",
   "execution_count": null,
   "outputs": [],
   "source": [
    "# get request json data\n",
    "req = requests.get(read_data)\n",
    "#req_json.text"
   ],
   "metadata": {
    "collapsed": false,
    "pycharm": {
     "name": "#%%\n"
    }
   }
  },
  {
   "cell_type": "code",
   "execution_count": null,
   "outputs": [],
   "source": [
    "# set respond text to json\n",
    "json_data = json.loads(req.text)\n",
    "json_data"
   ],
   "metadata": {
    "collapsed": false,
    "pycharm": {
     "name": "#%%\n"
    }
   }
  },
  {
   "cell_type": "code",
   "execution_count": null,
   "outputs": [],
   "source": [
    "# get respond keys\n",
    "json_data.keys()"
   ],
   "metadata": {
    "collapsed": false,
    "pycharm": {
     "name": "#%%\n"
    }
   }
  },
  {
   "cell_type": "code",
   "execution_count": null,
   "outputs": [],
   "source": [
    "# get data to panda df\n",
    "df_data = pd.json_normalize(json_data['feeds'])\n",
    "df_data.head()\n",
    "#df_data.dtypes"
   ],
   "metadata": {
    "collapsed": false,
    "pycharm": {
     "name": "#%%\n"
    }
   }
  },
  {
   "cell_type": "code",
   "execution_count": null,
   "outputs": [],
   "source": [
    "# set columns names\n",
    "df_data = df_data.rename(columns={'created_at': 'timestamp',\n",
    "                                'entry_id': 'id',\n",
    "                                'field1': 'Temperature',\n",
    "                                'field2': 'Humiditiy',\n",
    "                                'field3': 'Light',\n",
    "                                'field4': 'Weight',\n",
    "                                'field5': 'Th_Weight',\n",
    "                                'field6': 'need water'})\n",
    "# set datetime\n",
    "df_data['timestamp'] = pd.to_datetime(df_data['timestamp'])\n",
    "# set dtypes\n",
    "numeric_cols = ['Temperature', 'Humiditiy', 'Light', 'Weight', 'Th_Weight', 'need water']\n",
    "df_data[numeric_cols] = df_data[numeric_cols].astype(float).astype(int)  # solve 0.0 values with astype(float) first\n",
    "# set date as index\n",
    "df_data = df_data.set_index('timestamp', drop=True)\n",
    "print(df_data.shape)\n",
    "df_data.head(3)"
   ],
   "metadata": {
    "collapsed": false,
    "pycharm": {
     "name": "#%%\n"
    }
   }
  },
  {
   "cell_type": "code",
   "execution_count": null,
   "outputs": [],
   "source": [
    "# get data with file reader\n",
    "# print(type(req_json.text))\n",
    "# with open(req_json.text) as json_data:  #, 'r', encoding='UTF-8'\n",
    "#     req_data = json.load(json_data)\n",
    "#     print(req_data)"
   ],
   "metadata": {
    "collapsed": false,
    "pycharm": {
     "name": "#%%\n"
    }
   }
  },
  {
   "cell_type": "markdown",
   "source": [
    "# Clean Data"
   ],
   "metadata": {
    "collapsed": false
   }
  },
  {
   "cell_type": "code",
   "execution_count": null,
   "outputs": [],
   "source": [
    "(df_data == 0).sum()"
   ],
   "metadata": {
    "collapsed": false,
    "pycharm": {
     "name": "#%%\n"
    }
   }
  },
  {
   "cell_type": "code",
   "execution_count": null,
   "outputs": [],
   "source": [
    "# replace 0 with nan\n",
    "cols = ['Temperature', 'Humiditiy', 'Light', 'Weight', 'Th_Weight']\n",
    "df_data[cols] = df_data[cols].replace(0, np.nan)\n",
    "#print(df_data.isna().sum())\n",
    "df_data = df_data.dropna()\n",
    "print(df_data.isna().sum())"
   ],
   "metadata": {
    "collapsed": false,
    "pycharm": {
     "name": "#%%\n"
    }
   }
  },
  {
   "cell_type": "markdown",
   "source": [
    "# Visualization Plotly Express"
   ],
   "metadata": {
    "collapsed": false,
    "pycharm": {
     "name": "#%% md\n"
    }
   }
  },
  {
   "cell_type": "code",
   "execution_count": null,
   "outputs": [],
   "source": [
    "fig = px.line(df_data[['Temperature', 'Humiditiy']])\n",
    "fig.update_layout(title='Thingspeak Data')\n",
    "fig.show()"
   ],
   "metadata": {
    "collapsed": false,
    "pycharm": {
     "name": "#%%\n"
    }
   }
  },
  {
   "cell_type": "code",
   "execution_count": null,
   "outputs": [],
   "source": [
    "fig = px.line(df_data[['Weight', 'Th_Weight', 'need water']])\n",
    "fig.update_layout(title='Thingspeak Data')\n",
    "fig.show()"
   ],
   "metadata": {
    "collapsed": false,
    "pycharm": {
     "name": "#%%\n"
    }
   }
  },
  {
   "cell_type": "markdown",
   "source": [
    "# Visalization Matplotlib"
   ],
   "metadata": {
    "collapsed": false,
    "pycharm": {
     "name": "#%% md\n"
    }
   }
  },
  {
   "cell_type": "code",
   "execution_count": null,
   "outputs": [],
   "source": [
    "plt.plot(df_data[['Temperature', 'Humiditiy']])\n",
    "plt.show()"
   ],
   "metadata": {
    "collapsed": false,
    "pycharm": {
     "name": "#%%\n"
    }
   }
  }
 ],
 "metadata": {
  "kernelspec": {
   "display_name": "Python 3",
   "language": "python",
   "name": "python3"
  },
  "language_info": {
   "codemirror_mode": {
    "name": "ipython",
    "version": 2
   },
   "file_extension": ".py",
   "mimetype": "text/x-python",
   "name": "python",
   "nbconvert_exporter": "python",
   "pygments_lexer": "ipython2",
   "version": "2.7.6"
  }
 },
 "nbformat": 4,
 "nbformat_minor": 0
}